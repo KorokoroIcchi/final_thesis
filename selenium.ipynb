{
 "cells": [
  {
   "cell_type": "code",
   "execution_count": 2,
   "metadata": {},
   "outputs": [],
   "source": [
    "from bs4 import BeautifulSoup\n",
    "from selenium import webdriver\n",
    "from selenium.webdriver.common.by import By\n",
    "import requests\n",
    "import urllib3\n",
    "import time\n",
    "import pandas as pd\n",
    "import numpy as np\n",
    "from selenium.webdriver.chrome.service import Service\n",
    "from selenium.webdriver.support.ui import WebDriverWait\n",
    "from selenium.webdriver.support import expected_conditions as EC\n",
    "import codecs\n",
    "import re\n",
    "from webdriver_manager.chrome import ChromeDriverManager\n",
    "from selenium.webdriver.chrome import service\n",
    "from selenium.webdriver.common.by import By\n",
    "from selenium.webdriver.common.keys import Keys"
   ]
  },
  {
   "cell_type": "code",
   "execution_count": 3,
   "metadata": {},
   "outputs": [],
   "source": [
    "pd.set_option('display.max_columns', None)\n",
    "pd.set_option('display.max_rows', None)"
   ]
  },
  {
   "attachments": {},
   "cell_type": "markdown",
   "metadata": {},
   "source": [
    "## おもてなしサイト"
   ]
  },
  {
   "cell_type": "code",
   "execution_count": 11,
   "metadata": {},
   "outputs": [],
   "source": [
    "CHROME_DRIVER = \"C:/Users/ichir/Documents/seminar/chrome_driver/chromedriver.exe\"\n",
    "chrome_service = service.Service(executable_path = CHROME_DRIVER)\n",
    "browser = webdriver.Chrome(service=chrome_service)"
   ]
  },
  {
   "cell_type": "code",
   "execution_count": 4,
   "metadata": {},
   "outputs": [],
   "source": [
    "com_name = []\n",
    "com_num = []\n",
    "com_ind = []\n",
    "com_market = []"
   ]
  },
  {
   "attachments": {},
   "cell_type": "markdown",
   "metadata": {},
   "source": [
    "農林・水産業"
   ]
  },
  {
   "cell_type": "code",
   "execution_count": 5,
   "metadata": {},
   "outputs": [],
   "source": [
    "browser.get(\"https://omotenashi.site/company/agriculture-and-fisheries/\")\n",
    "time.sleep(.5)\n",
    "No_com = len(browser.find_elements(\"xpath\", \"//ul[@class = 'entryList01']/li\"))\n",
    "for i in range(No_com):\n",
    "    i += 1\n",
    "    xpath_url = f\"//*[@id='contents']/section/ul/li[{i}]/a\"\n",
    "    browser.find_element(\"xpath\", xpath_url).click()\n",
    "    time.sleep(1)\n",
    "    element1 = browser.find_element(\"xpath\", \"//*[@class = 'deviceTtl01']\")\n",
    "    element2 = browser.find_element(\"xpath\", \"//*[@class='dataTable01']/tbody/tr[1]/td\")\n",
    "    element3 = browser.find_element(\"xpath\", \"//*[@class = 'dataTable01']/tbody/tr[2]/td/a\")\n",
    "    element4 = browser.find_element(\"xpath\", \"//*[@class = 'dataTable01']/tbody/tr[4]/td/a\")\n",
    "    time.sleep(1)\n",
    "    com_name.append(element1.text[:-5])\n",
    "    com_num.append(element2.text)\n",
    "    com_ind.append(element3.text)\n",
    "    com_market.append(element4.text)\n",
    "    time.sleep(.5)\n",
    "    browser.back()\n",
    "    time.sleep(.5)"
   ]
  },
  {
   "attachments": {},
   "cell_type": "markdown",
   "metadata": {},
   "source": [
    "ガラス・土石"
   ]
  },
  {
   "cell_type": "code",
   "execution_count": 6,
   "metadata": {},
   "outputs": [],
   "source": [
    "page_path = f\"https://omotenashi.site/company/glass-earth-and-soil-product/\"\n",
    "for i in range(1, 7):\n",
    "    if i >= 2:\n",
    "        page_path += f\"index_{i}.html\"\n",
    "    else:\n",
    "        page_path = page_path\n",
    "    browser.get(page_path)\n",
    "    time.sleep(.5)\n",
    "    No_com = len(browser.find_elements(\"xpath\", \"//ul[@class = 'entryList01']/li\"))\n",
    "    for i in range(No_com):\n",
    "        i += 1\n",
    "        xpath_url = f\"//ul[@class = 'entryList01']/li[{i}]/a\"\n",
    "        browser.find_element(\"xpath\", xpath_url).click()\n",
    "        time.sleep(1)\n",
    "        element1 = browser.find_element(\"xpath\", \"//*[@class = 'deviceTtl01']\")\n",
    "        element2 = browser.find_element(\"xpath\", \"//*[@class='dataTable01']/tbody/tr[1]/td\")\n",
    "        element3 = browser.find_element(\"xpath\", \"//*[@class = 'dataTable01']/tbody/tr[2]/td/a\")\n",
    "        element4 = browser.find_element(\"xpath\", \"//*[@class = 'dataTable01']/tbody/tr[4]/td/a\")\n",
    "        time.sleep(1)\n",
    "        com_name.append(element1.text[:-5])\n",
    "        com_num.append(element2.text)\n",
    "        com_ind.append(element3.text)\n",
    "        com_market.append(element4.text)\n",
    "        time.sleep(.5)\n",
    "        browser.back()\n",
    "        time.sleep(.5)\n",
    "    page_path = f\"https://omotenashi.site/company/glass-earth-and-soil-product/\""
   ]
  },
  {
   "attachments": {},
   "cell_type": "markdown",
   "metadata": {},
   "source": [
    "鉱業"
   ]
  },
  {
   "cell_type": "code",
   "execution_count": 7,
   "metadata": {},
   "outputs": [],
   "source": [
    "browser.get(\"https://omotenashi.site/company/mining/\")\n",
    "time.sleep(.5)\n",
    "No_com = len(browser.find_elements(\"xpath\", \"//ul[@class = 'entryList01']/li\"))\n",
    "for i in range(No_com):\n",
    "    i += 1\n",
    "    xpath_url = f\"//*[@id='contents']/section/ul/li[{i}]/a\"\n",
    "    browser.find_element(\"xpath\", xpath_url).click()\n",
    "    time.sleep(1)\n",
    "    element1 = browser.find_element(\"xpath\", \"//*[@class = 'deviceTtl01']\")\n",
    "    element2 = browser.find_element(\"xpath\", \"//*[@class='dataTable01']/tbody/tr[1]/td\")\n",
    "    element3 = browser.find_element(\"xpath\", \"//*[@class = 'dataTable01']/tbody/tr[2]/td/a\")\n",
    "    element4 = browser.find_element(\"xpath\", \"//*[@class = 'dataTable01']/tbody/tr[4]/td/a\")\n",
    "    time.sleep(1)\n",
    "    com_name.append(element1.text[:-5])\n",
    "    com_num.append(element2.text)\n",
    "    com_ind.append(element3.text)\n",
    "    com_market.append(element4.text)\n",
    "    time.sleep(.5)\n",
    "    browser.back()\n",
    "    time.sleep(.5)"
   ]
  },
  {
   "attachments": {},
   "cell_type": "markdown",
   "metadata": {},
   "source": [
    "建設業"
   ]
  },
  {
   "cell_type": "code",
   "execution_count": 8,
   "metadata": {},
   "outputs": [],
   "source": [
    "page_path = f\"https://omotenashi.site/company/construction/\"\n",
    "for i in range(1, 19):\n",
    "    if i >= 2:\n",
    "        page_path += f\"index_{i}.html\"\n",
    "    else:\n",
    "        page_path = page_path\n",
    "    browser.get(page_path)\n",
    "    time.sleep(.5)\n",
    "    No_com = len(browser.find_elements(\"xpath\", \"//ul[@class = 'entryList01']/li\"))\n",
    "    for i in range(No_com):\n",
    "        i += 1\n",
    "        xpath_url = f\"//ul[@class = 'entryList01']/li[{i}]/a\"\n",
    "        browser.find_element(\"xpath\", xpath_url).click()\n",
    "        time.sleep(1)\n",
    "        element1 = browser.find_element(\"xpath\", \"//*[@class = 'deviceTtl01']\")\n",
    "        element2 = browser.find_element(\"xpath\", \"//*[@class='dataTable01']/tbody/tr[1]/td\")\n",
    "        element3 = browser.find_element(\"xpath\", \"//*[@class = 'dataTable01']/tbody/tr[2]/td/a\")\n",
    "        element4 = browser.find_element(\"xpath\", \"//*[@class = 'dataTable01']/tbody/tr[4]/td/a\")\n",
    "        time.sleep(1)\n",
    "        com_name.append(element1.text[:-5])\n",
    "        com_num.append(element2.text)\n",
    "        com_ind.append(element3.text)\n",
    "        com_market.append(element4.text)\n",
    "        time.sleep(.5)\n",
    "        browser.back()\n",
    "        time.sleep(.5)\n",
    "    page_path = f\"https://omotenashi.site/company/construction/\""
   ]
  },
  {
   "attachments": {},
   "cell_type": "markdown",
   "metadata": {},
   "source": [
    "食料品"
   ]
  },
  {
   "cell_type": "code",
   "execution_count": 9,
   "metadata": {},
   "outputs": [],
   "source": [
    "page_path = f\"https://omotenashi.site/company/food/\"\n",
    "for i in range(1, 14):\n",
    "    if i >= 2:\n",
    "        page_path += f\"index_{i}.html\"\n",
    "    else:\n",
    "        page_path = page_path\n",
    "    browser.get(page_path)\n",
    "    time.sleep(.5)\n",
    "    No_com = len(browser.find_elements(\"xpath\", \"//ul[@class = 'entryList01']/li\"))\n",
    "    for i in range(No_com):\n",
    "        i += 1\n",
    "        xpath_url = f\"//ul[@class = 'entryList01']/li[{i}]/a\"\n",
    "        browser.find_element(\"xpath\", xpath_url).click()\n",
    "        time.sleep(1)\n",
    "        element1 = browser.find_element(\"xpath\", \"//*[@class = 'deviceTtl01']\")\n",
    "        element2 = browser.find_element(\"xpath\", \"//*[@class='dataTable01']/tbody/tr[1]/td\")\n",
    "        element3 = browser.find_element(\"xpath\", \"//*[@class = 'dataTable01']/tbody/tr[2]/td/a\")\n",
    "        element4 = browser.find_element(\"xpath\", \"//*[@class = 'dataTable01']/tbody/tr[4]/td/a\")\n",
    "        time.sleep(1)\n",
    "        com_name.append(element1.text[:-5])\n",
    "        com_num.append(element2.text)\n",
    "        com_ind.append(element3.text)\n",
    "        com_market.append(element4.text)\n",
    "        time.sleep(.5)\n",
    "        browser.back()\n",
    "        time.sleep(.5)\n",
    "    page_path = f\"https://omotenashi.site/company/food/\""
   ]
  },
  {
   "attachments": {},
   "cell_type": "markdown",
   "metadata": {},
   "source": [
    "パルプ・紙"
   ]
  },
  {
   "cell_type": "code",
   "execution_count": 10,
   "metadata": {},
   "outputs": [],
   "source": [
    "page_path = f\"https://omotenashi.site/company/pulp-and-paper/index.html\"\n",
    "for i in range(1, 4):\n",
    "    if i >= 2:\n",
    "        page_path += f\"index_{i}.html\"\n",
    "    else:\n",
    "        page_path = page_path\n",
    "    browser.get(page_path)\n",
    "    time.sleep(.5)\n",
    "    No_com = len(browser.find_elements(\"xpath\", \"//ul[@class = 'entryList01']/li\"))\n",
    "    for i in range(No_com):\n",
    "        i += 1\n",
    "        xpath_url = f\"//ul[@class = 'entryList01']/li[{i}]/a\"\n",
    "        browser.find_element(\"xpath\", xpath_url).click()\n",
    "        time.sleep(1)\n",
    "        element1 = browser.find_element(\"xpath\", \"//*[@class = 'deviceTtl01']\")\n",
    "        element2 = browser.find_element(\"xpath\", \"//*[@class='dataTable01']/tbody/tr[1]/td\")\n",
    "        element3 = browser.find_element(\"xpath\", \"//*[@class = 'dataTable01']/tbody/tr[2]/td/a\")\n",
    "        element4 = browser.find_element(\"xpath\", \"//*[@class = 'dataTable01']/tbody/tr[4]/td/a\")\n",
    "        time.sleep(1)\n",
    "        com_name.append(element1.text[:-5])\n",
    "        com_num.append(element2.text)\n",
    "        com_ind.append(element3.text)\n",
    "        com_market.append(element4.text)\n",
    "        time.sleep(.5)\n",
    "        browser.back()\n",
    "        time.sleep(.5)\n",
    "    page_path = f\"https://omotenashi.site/company/pulp-and-paper/\""
   ]
  },
  {
   "attachments": {},
   "cell_type": "markdown",
   "metadata": {},
   "source": [
    "化学"
   ]
  },
  {
   "cell_type": "code",
   "execution_count": 11,
   "metadata": {},
   "outputs": [],
   "source": [
    "page_path = f\"https://omotenashi.site/company/chemical/\"\n",
    "for i in range(1, 23):\n",
    "    if i >= 2:\n",
    "        page_path += f\"index_{i}.html\"\n",
    "    else:\n",
    "        page_path = page_path\n",
    "    browser.get(page_path)\n",
    "    time.sleep(.5)\n",
    "    No_com = len(browser.find_elements(\"xpath\", \"//ul[@class = 'entryList01']/li\"))\n",
    "    for i in range(No_com):\n",
    "        i += 1\n",
    "        xpath_url = f\"//ul[@class = 'entryList01']/li[{i}]/a\"\n",
    "        browser.find_element(\"xpath\", xpath_url).click()\n",
    "        time.sleep(1)\n",
    "        element1 = browser.find_element(\"xpath\", \"//*[@class = 'deviceTtl01']\")\n",
    "        element2 = browser.find_element(\"xpath\", \"//*[@class='dataTable01']/tbody/tr[1]/td\")\n",
    "        element3 = browser.find_element(\"xpath\", \"//*[@class = 'dataTable01']/tbody/tr[2]/td/a\")\n",
    "        element4 = browser.find_element(\"xpath\", \"//*[@class = 'dataTable01']/tbody/tr[4]/td/a\")\n",
    "        time.sleep(1)\n",
    "        com_name.append(element1.text[:-5])\n",
    "        com_num.append(element2.text)\n",
    "        com_ind.append(element3.text)\n",
    "        com_market.append(element4.text)\n",
    "        time.sleep(.5)\n",
    "        browser.back()\n",
    "        time.sleep(.5)\n",
    "    page_path = f\"https://omotenashi.site/company/chemical/\""
   ]
  },
  {
   "attachments": {},
   "cell_type": "markdown",
   "metadata": {},
   "source": [
    "医薬品"
   ]
  },
  {
   "cell_type": "code",
   "execution_count": 12,
   "metadata": {},
   "outputs": [],
   "source": [
    "page_path = f\"https://omotenashi.site/company/pharmaceutical/\"\n",
    "for i in range(1, 8):\n",
    "    if i >= 2:\n",
    "        page_path += f\"index_{i}.html\"\n",
    "    else:\n",
    "        page_path = page_path\n",
    "    browser.get(page_path)\n",
    "    time.sleep(.5)\n",
    "    No_com = len(browser.find_elements(\"xpath\", \"//ul[@class = 'entryList01']/li\"))\n",
    "    for i in range(No_com):\n",
    "        i += 1\n",
    "        xpath_url = f\"//ul[@class = 'entryList01']/li[{i}]/a\"\n",
    "        browser.find_element(\"xpath\", xpath_url).click()\n",
    "        time.sleep(1)\n",
    "        element1 = browser.find_element(\"xpath\", \"//*[@class = 'deviceTtl01']\")\n",
    "        element2 = browser.find_element(\"xpath\", \"//*[@class='dataTable01']/tbody/tr[1]/td\")\n",
    "        element3 = browser.find_element(\"xpath\", \"//*[@class = 'dataTable01']/tbody/tr[2]/td/a\")\n",
    "        element4 = browser.find_element(\"xpath\", \"//*[@class = 'dataTable01']/tbody/tr[4]/td/a\")\n",
    "        time.sleep(1)\n",
    "        com_name.append(element1.text[:-5])\n",
    "        com_num.append(element2.text)\n",
    "        com_ind.append(element3.text)\n",
    "        com_market.append(element4.text)\n",
    "        time.sleep(.5)\n",
    "        browser.back()\n",
    "        time.sleep(.5)\n",
    "    page_path = f\"https://omotenashi.site/company/pharmaceutical/\""
   ]
  },
  {
   "attachments": {},
   "cell_type": "markdown",
   "metadata": {},
   "source": [
    "石油・石炭"
   ]
  },
  {
   "cell_type": "code",
   "execution_count": 13,
   "metadata": {},
   "outputs": [],
   "source": [
    "page_path = f\"https://omotenashi.site/company/oil-and-coal-products/\"\n",
    "for i in range(1, 3):\n",
    "    if i >= 2:\n",
    "        page_path += f\"index_{i}.html\"\n",
    "    else:\n",
    "        page_path = page_path\n",
    "    browser.get(page_path)\n",
    "    time.sleep(.5)\n",
    "    No_com = len(browser.find_elements(\"xpath\", \"//ul[@class = 'entryList01']/li\"))\n",
    "    for i in range(No_com):\n",
    "        i += 1\n",
    "        xpath_url = f\"//ul[@class = 'entryList01']/li[{i}]/a\"\n",
    "        browser.find_element(\"xpath\", xpath_url).click()\n",
    "        time.sleep(1)\n",
    "        element1 = browser.find_element(\"xpath\", \"//*[@class = 'deviceTtl01']\")\n",
    "        element2 = browser.find_element(\"xpath\", \"//*[@class='dataTable01']/tbody/tr[1]/td\")\n",
    "        element3 = browser.find_element(\"xpath\", \"//*[@class = 'dataTable01']/tbody/tr[2]/td/a\")\n",
    "        element4 = browser.find_element(\"xpath\", \"//*[@class = 'dataTable01']/tbody/tr[4]/td/a\")\n",
    "        time.sleep(1)\n",
    "        com_name.append(element1.text[:-5])\n",
    "        com_num.append(element2.text)\n",
    "        com_ind.append(element3.text)\n",
    "        com_market.append(element4.text)\n",
    "        time.sleep(.5)\n",
    "        browser.back()\n",
    "        time.sleep(.5)\n",
    "    page_path = f\"https://omotenashi.site/company/oil-and-coal-products/\""
   ]
  },
  {
   "attachments": {},
   "cell_type": "markdown",
   "metadata": {},
   "source": [
    "ゴム製品"
   ]
  },
  {
   "cell_type": "code",
   "execution_count": 14,
   "metadata": {},
   "outputs": [],
   "source": [
    "page_path = f\"https://omotenashi.site/company/rubber-products/\"\n",
    "for i in range(1, 3):\n",
    "    if i >= 2:\n",
    "        page_path += f\"index_{i}.html\"\n",
    "    else:\n",
    "        page_path = page_path\n",
    "    browser.get(page_path)\n",
    "    time.sleep(.5)\n",
    "    No_com = len(browser.find_elements(\"xpath\", \"//ul[@class = 'entryList01']/li\"))\n",
    "    for i in range(No_com):\n",
    "        i += 1\n",
    "        xpath_url = f\"//ul[@class = 'entryList01']/li[{i}]/a\"\n",
    "        browser.find_element(\"xpath\", xpath_url).click()\n",
    "        time.sleep(1)\n",
    "        element1 = browser.find_element(\"xpath\", \"//*[@class = 'deviceTtl01']\")\n",
    "        element2 = browser.find_element(\"xpath\", \"//*[@class='dataTable01']/tbody/tr[1]/td\")\n",
    "        element3 = browser.find_element(\"xpath\", \"//*[@class = 'dataTable01']/tbody/tr[2]/td/a\")\n",
    "        element4 = browser.find_element(\"xpath\", \"//*[@class = 'dataTable01']/tbody/tr[4]/td/a\")\n",
    "        time.sleep(1)\n",
    "        com_name.append(element1.text[:-5])\n",
    "        com_num.append(element2.text)\n",
    "        com_ind.append(element3.text)\n",
    "        com_market.append(element4.text)\n",
    "        time.sleep(.5)\n",
    "        browser.back()\n",
    "        time.sleep(.5)\n",
    "    page_path = f\"https://omotenashi.site/company/rubber-products/\""
   ]
  },
  {
   "attachments": {},
   "cell_type": "markdown",
   "metadata": {},
   "source": [
    "鉄鋼"
   ]
  },
  {
   "cell_type": "code",
   "execution_count": 15,
   "metadata": {},
   "outputs": [],
   "source": [
    "page_path = f\"https://omotenashi.site/company/iron-and-steel/\"\n",
    "for i in range(1, 6):\n",
    "    if i >= 2:\n",
    "        page_path += f\"index_{i}.html\"\n",
    "    else:\n",
    "        page_path = page_path\n",
    "    browser.get(page_path)\n",
    "    time.sleep(.5)\n",
    "    No_com = len(browser.find_elements(\"xpath\", \"//ul[@class = 'entryList01']/li\"))\n",
    "    for i in range(No_com):\n",
    "        i += 1\n",
    "        xpath_url = f\"//ul[@class = 'entryList01']/li[{i}]/a\"\n",
    "        browser.find_element(\"xpath\", xpath_url).click()\n",
    "        time.sleep(1)\n",
    "        element1 = browser.find_element(\"xpath\", \"//*[@class = 'deviceTtl01']\")\n",
    "        element2 = browser.find_element(\"xpath\", \"//*[@class='dataTable01']/tbody/tr[1]/td\")\n",
    "        element3 = browser.find_element(\"xpath\", \"//*[@class = 'dataTable01']/tbody/tr[2]/td/a\")\n",
    "        element4 = browser.find_element(\"xpath\", \"//*[@class = 'dataTable01']/tbody/tr[4]/td/a\")\n",
    "        time.sleep(1)\n",
    "        com_name.append(element1.text[:-5])\n",
    "        com_num.append(element2.text)\n",
    "        com_ind.append(element3.text)\n",
    "        com_market.append(element4.text)\n",
    "        time.sleep(.5)\n",
    "        browser.back()\n",
    "        time.sleep(.5)\n",
    "    page_path = f\"https://omotenashi.site/company/iron-and-steel/\""
   ]
  },
  {
   "attachments": {},
   "cell_type": "markdown",
   "metadata": {},
   "source": [
    "非鉄金属"
   ]
  },
  {
   "cell_type": "code",
   "execution_count": 16,
   "metadata": {},
   "outputs": [],
   "source": [
    "page_path = f\"https://omotenashi.site/company/nonferrous-metal/index.html\"\n",
    "for i in range(1, 5):\n",
    "    if i >= 2:\n",
    "        page_path += f\"index_{i}.html\"\n",
    "    else:\n",
    "        page_path = page_path\n",
    "    browser.get(page_path)\n",
    "    time.sleep(.5)\n",
    "    No_com = len(browser.find_elements(\"xpath\", \"//ul[@class = 'entryList01']/li\"))\n",
    "    for i in range(No_com):\n",
    "        i += 1\n",
    "        xpath_url = f\"//ul[@class = 'entryList01']/li[{i}]/a\"\n",
    "        browser.find_element(\"xpath\", xpath_url).click()\n",
    "        time.sleep(1)\n",
    "        element1 = browser.find_element(\"xpath\", \"//*[@class = 'deviceTtl01']\")\n",
    "        element2 = browser.find_element(\"xpath\", \"//*[@class='dataTable01']/tbody/tr[1]/td\")\n",
    "        element3 = browser.find_element(\"xpath\", \"//*[@class = 'dataTable01']/tbody/tr[2]/td/a\")\n",
    "        element4 = browser.find_element(\"xpath\", \"//*[@class = 'dataTable01']/tbody/tr[4]/td/a\")\n",
    "        time.sleep(1)\n",
    "        com_name.append(element1.text[:-5])\n",
    "        com_num.append(element2.text)\n",
    "        com_ind.append(element3.text)\n",
    "        com_market.append(element4.text)\n",
    "        time.sleep(.5)\n",
    "        browser.back()\n",
    "        time.sleep(.5)\n",
    "    page_path = f\"https://omotenashi.site/company/nonferrous-metal/\""
   ]
  },
  {
   "attachments": {},
   "cell_type": "markdown",
   "metadata": {},
   "source": [
    "金属製品"
   ]
  },
  {
   "cell_type": "code",
   "execution_count": 17,
   "metadata": {},
   "outputs": [],
   "source": [
    "page_path = f\"https://omotenashi.site/company/metal-product/index.html\"\n",
    "for i in range(1, 11):\n",
    "    if i >= 2:\n",
    "        page_path += f\"index_{i}.html\"\n",
    "    else:\n",
    "        page_path = page_path\n",
    "    browser.get(page_path)\n",
    "    time.sleep(.5)\n",
    "    No_com = len(browser.find_elements(\"xpath\", \"//ul[@class = 'entryList01']/li\"))\n",
    "    for i in range(No_com):\n",
    "        i += 1\n",
    "        xpath_url = f\"//ul[@class = 'entryList01']/li[{i}]/a\"\n",
    "        browser.find_element(\"xpath\", xpath_url).click()\n",
    "        time.sleep(1)\n",
    "        element1 = browser.find_element(\"xpath\", \"//*[@class = 'deviceTtl01']\")\n",
    "        element2 = browser.find_element(\"xpath\", \"//*[@class='dataTable01']/tbody/tr[1]/td\")\n",
    "        element3 = browser.find_element(\"xpath\", \"//*[@class = 'dataTable01']/tbody/tr[2]/td/a\")\n",
    "        element4 = browser.find_element(\"xpath\", \"//*[@class = 'dataTable01']/tbody/tr[4]/td/a\")\n",
    "        time.sleep(1)\n",
    "        com_name.append(element1.text[:-5])\n",
    "        com_num.append(element2.text)\n",
    "        com_ind.append(element3.text)\n",
    "        com_market.append(element4.text)\n",
    "        time.sleep(.5)\n",
    "        browser.back()\n",
    "        time.sleep(.5)\n",
    "    page_path = f\"https://omotenashi.site/company/metal-product/\""
   ]
  },
  {
   "attachments": {},
   "cell_type": "markdown",
   "metadata": {},
   "source": [
    "機械"
   ]
  },
  {
   "cell_type": "code",
   "execution_count": 18,
   "metadata": {},
   "outputs": [],
   "source": [
    "page_path = f\"https://omotenashi.site/company/machinery/\"\n",
    "for i in range(1, 25):\n",
    "    if i >= 2:\n",
    "        page_path += f\"index_{i}.html\"\n",
    "    else:\n",
    "        page_path = page_path\n",
    "    browser.get(page_path)\n",
    "    time.sleep(.5)\n",
    "    No_com = len(browser.find_elements(\"xpath\", \"//ul[@class = 'entryList01']/li\"))\n",
    "    for i in range(No_com):\n",
    "        i += 1\n",
    "        xpath_url = f\"//ul[@class = 'entryList01']/li[{i}]/a\"\n",
    "        browser.find_element(\"xpath\", xpath_url).click()\n",
    "        time.sleep(1)\n",
    "        element1 = browser.find_element(\"xpath\", \"//*[@class = 'deviceTtl01']\")\n",
    "        element2 = browser.find_element(\"xpath\", \"//*[@class='dataTable01']/tbody/tr[1]/td\")\n",
    "        element3 = browser.find_element(\"xpath\", \"//*[@class = 'dataTable01']/tbody/tr[2]/td/a\")\n",
    "        element4 = browser.find_element(\"xpath\", \"//*[@class = 'dataTable01']/tbody/tr[4]/td/a\")\n",
    "        time.sleep(1)\n",
    "        com_name.append(element1.text[:-5])\n",
    "        com_num.append(element2.text)\n",
    "        com_ind.append(element3.text)\n",
    "        com_market.append(element4.text)\n",
    "        time.sleep(.5)\n",
    "        browser.back()\n",
    "        time.sleep(.5)\n",
    "    page_path = f\"https://omotenashi.site/company/machinery/\""
   ]
  },
  {
   "attachments": {},
   "cell_type": "markdown",
   "metadata": {},
   "source": [
    "電気機器"
   ]
  },
  {
   "cell_type": "code",
   "execution_count": 19,
   "metadata": {},
   "outputs": [],
   "source": [
    "page_path = f\"https://omotenashi.site/company/electric-appliances/\"\n",
    "for i in range(1, 28):\n",
    "    if i >= 2:\n",
    "        page_path += f\"index_{i}.html\"\n",
    "    else:\n",
    "        page_path = page_path\n",
    "    browser.get(page_path)\n",
    "    time.sleep(.5)\n",
    "    No_com = len(browser.find_elements(\"xpath\", \"//ul[@class = 'entryList01']/li\"))\n",
    "    for i in range(No_com):\n",
    "        i += 1\n",
    "        xpath_url = f\"//ul[@class = 'entryList01']/li[{i}]/a\"\n",
    "        browser.find_element(\"xpath\", xpath_url).click()\n",
    "        time.sleep(1)\n",
    "        element1 = browser.find_element(\"xpath\", \"//*[@class = 'deviceTtl01']\")\n",
    "        element2 = browser.find_element(\"xpath\", \"//*[@class='dataTable01']/tbody/tr[1]/td\")\n",
    "        element3 = browser.find_element(\"xpath\", \"//*[@class = 'dataTable01']/tbody/tr[2]/td/a\")\n",
    "        element4 = browser.find_element(\"xpath\", \"//*[@class = 'dataTable01']/tbody/tr[4]/td/a\")\n",
    "        time.sleep(1)\n",
    "        com_name.append(element1.text[:-5])\n",
    "        com_num.append(element2.text)\n",
    "        com_ind.append(element3.text)\n",
    "        com_market.append(element4.text)\n",
    "        time.sleep(.5)\n",
    "        browser.back()\n",
    "        time.sleep(.5)\n",
    "    page_path = f\"https://omotenashi.site/company/electric-appliances/\""
   ]
  },
  {
   "attachments": {},
   "cell_type": "markdown",
   "metadata": {},
   "source": [
    "輸送用機器"
   ]
  },
  {
   "cell_type": "code",
   "execution_count": 20,
   "metadata": {},
   "outputs": [],
   "source": [
    "page_path = f\"https://omotenashi.site/company/transportation-equipment/index.html\"\n",
    "for i in range(1, 11):\n",
    "    if i >= 2:\n",
    "        page_path += f\"index_{i}.html\"\n",
    "    else:\n",
    "        page_path = page_path\n",
    "    browser.get(page_path)\n",
    "    time.sleep(.5)\n",
    "    No_com = len(browser.find_elements(\"xpath\", \"//ul[@class = 'entryList01']/li\"))\n",
    "    for i in range(No_com):\n",
    "        i += 1\n",
    "        xpath_url = f\"//ul[@class = 'entryList01']/li[{i}]/a\"\n",
    "        browser.find_element(\"xpath\", xpath_url).click()\n",
    "        time.sleep(1)\n",
    "        element1 = browser.find_element(\"xpath\", \"//*[@class = 'deviceTtl01']\")\n",
    "        element2 = browser.find_element(\"xpath\", \"//*[@class='dataTable01']/tbody/tr[1]/td\")\n",
    "        element3 = browser.find_element(\"xpath\", \"//*[@class = 'dataTable01']/tbody/tr[2]/td/a\")\n",
    "        element4 = browser.find_element(\"xpath\", \"//*[@class = 'dataTable01']/tbody/tr[4]/td/a\")\n",
    "        time.sleep(1)\n",
    "        com_name.append(element1.text[:-5])\n",
    "        com_num.append(element2.text)\n",
    "        com_ind.append(element3.text)\n",
    "        com_market.append(element4.text)\n",
    "        time.sleep(.5)\n",
    "        browser.back()\n",
    "        time.sleep(.5)\n",
    "    page_path = f\"https://omotenashi.site/company/transportation-equipment/\""
   ]
  },
  {
   "attachments": {},
   "cell_type": "markdown",
   "metadata": {},
   "source": [
    "精密機器"
   ]
  },
  {
   "cell_type": "code",
   "execution_count": 21,
   "metadata": {},
   "outputs": [],
   "source": [
    "page_path = f\"https://omotenashi.site/company/precision-instruments/\"\n",
    "for i in range(1, 7):\n",
    "    if i >= 2:\n",
    "        page_path += f\"index_{i}.html\"\n",
    "    else:\n",
    "        page_path = page_path\n",
    "    browser.get(page_path)\n",
    "    time.sleep(.5)\n",
    "    No_com = len(browser.find_elements(\"xpath\", \"//ul[@class = 'entryList01']/li\"))\n",
    "    for i in range(No_com):\n",
    "        i += 1\n",
    "        xpath_url = f\"//ul[@class = 'entryList01']/li[{i}]/a\"\n",
    "        browser.find_element(\"xpath\", xpath_url).click()\n",
    "        time.sleep(1)\n",
    "        element1 = browser.find_element(\"xpath\", \"//*[@class = 'deviceTtl01']\")\n",
    "        element2 = browser.find_element(\"xpath\", \"//*[@class='dataTable01']/tbody/tr[1]/td\")\n",
    "        element3 = browser.find_element(\"xpath\", \"//*[@class = 'dataTable01']/tbody/tr[2]/td/a\")\n",
    "        element4 = browser.find_element(\"xpath\", \"//*[@class = 'dataTable01']/tbody/tr[4]/td/a\")\n",
    "        time.sleep(1)\n",
    "        com_name.append(element1.text[:-5])\n",
    "        com_num.append(element2.text)\n",
    "        com_ind.append(element3.text)\n",
    "        com_market.append(element4.text)\n",
    "        time.sleep(.5)\n",
    "        browser.back()\n",
    "        time.sleep(.5)\n",
    "    page_path = f\"https://omotenashi.site/company/precision-instruments/\""
   ]
  },
  {
   "attachments": {},
   "cell_type": "markdown",
   "metadata": {},
   "source": [
    "その他製品"
   ]
  },
  {
   "cell_type": "code",
   "execution_count": 22,
   "metadata": {},
   "outputs": [],
   "source": [
    "page_path = f\"https://omotenashi.site/company/other-products/index.html\"\n",
    "for i in range(1, 12):\n",
    "    if i >= 2:\n",
    "        page_path += f\"index_{i}.html\"\n",
    "    else:\n",
    "        page_path = page_path\n",
    "    browser.get(page_path)\n",
    "    time.sleep(.5)\n",
    "    No_com = len(browser.find_elements(\"xpath\", \"//ul[@class = 'entryList01']/li\"))\n",
    "    for i in range(No_com):\n",
    "        i += 1\n",
    "        xpath_url = f\"//ul[@class = 'entryList01']/li[{i}]/a\"\n",
    "        browser.find_element(\"xpath\", xpath_url).click()\n",
    "        time.sleep(1)\n",
    "        element1 = browser.find_element(\"xpath\", \"//*[@class = 'deviceTtl01']\")\n",
    "        element2 = browser.find_element(\"xpath\", \"//*[@class='dataTable01']/tbody/tr[1]/td\")\n",
    "        element3 = browser.find_element(\"xpath\", \"//*[@class = 'dataTable01']/tbody/tr[2]/td/a\")\n",
    "        element4 = browser.find_element(\"xpath\", \"//*[@class = 'dataTable01']/tbody/tr[4]/td/a\")\n",
    "        time.sleep(1)\n",
    "        com_name.append(element1.text[:-5])\n",
    "        com_num.append(element2.text)\n",
    "        com_ind.append(element3.text)\n",
    "        com_market.append(element4.text)\n",
    "        time.sleep(.5)\n",
    "        browser.back()\n",
    "        time.sleep(.5)\n",
    "    page_path = f\"https://omotenashi.site/company/other-products/\""
   ]
  },
  {
   "attachments": {},
   "cell_type": "markdown",
   "metadata": {},
   "source": [
    "電気・ガス"
   ]
  },
  {
   "cell_type": "code",
   "execution_count": 23,
   "metadata": {},
   "outputs": [],
   "source": [
    "page_path = f\"https://omotenashi.site/company/electric-power-and-gas/\"\n",
    "for i in range(1, 4):\n",
    "    if i >= 2:\n",
    "        page_path += f\"index_{i}.html\"\n",
    "    else:\n",
    "        page_path = page_path\n",
    "    browser.get(page_path)\n",
    "    time.sleep(.5)\n",
    "    No_com = len(browser.find_elements(\"xpath\", \"//ul[@class = 'entryList01']/li\"))\n",
    "    for i in range(No_com):\n",
    "        i += 1\n",
    "        xpath_url = f\"//ul[@class = 'entryList01']/li[{i}]/a\"\n",
    "        browser.find_element(\"xpath\", xpath_url).click()\n",
    "        time.sleep(1)\n",
    "        element1 = browser.find_element(\"xpath\", \"//*[@class = 'deviceTtl01']\")\n",
    "        element2 = browser.find_element(\"xpath\", \"//*[@class='dataTable01']/tbody/tr[1]/td\")\n",
    "        element3 = browser.find_element(\"xpath\", \"//*[@class = 'dataTable01']/tbody/tr[2]/td/a\")\n",
    "        element4 = browser.find_element(\"xpath\", \"//*[@class = 'dataTable01']/tbody/tr[4]/td/a\")\n",
    "        time.sleep(1)\n",
    "        com_name.append(element1.text[:-5])\n",
    "        com_num.append(element2.text)\n",
    "        com_ind.append(element3.text)\n",
    "        com_market.append(element4.text)\n",
    "        time.sleep(.5)\n",
    "        browser.back()\n",
    "        time.sleep(.5)\n",
    "    page_path = f\"https://omotenashi.site/company/electric-power-and-gas/\""
   ]
  },
  {
   "attachments": {},
   "cell_type": "markdown",
   "metadata": {},
   "source": [
    "陸運業"
   ]
  },
  {
   "cell_type": "code",
   "execution_count": 24,
   "metadata": {},
   "outputs": [],
   "source": [
    "page_path = f\"https://omotenashi.site/company/land-transportation/\"\n",
    "for i in range(1, 8):\n",
    "    if i >= 2:\n",
    "        page_path += f\"index_{i}.html\"\n",
    "    else:\n",
    "        page_path = page_path\n",
    "    browser.get(page_path)\n",
    "    time.sleep(.5)\n",
    "    No_com = len(browser.find_elements(\"xpath\", \"//ul[@class = 'entryList01']/li\"))\n",
    "    for i in range(No_com):\n",
    "        i += 1\n",
    "        xpath_url = f\"//ul[@class = 'entryList01']/li[{i}]/a\"\n",
    "        browser.find_element(\"xpath\", xpath_url).click()\n",
    "        time.sleep(1)\n",
    "        element1 = browser.find_element(\"xpath\", \"//*[@class = 'deviceTtl01']\")\n",
    "        element2 = browser.find_element(\"xpath\", \"//*[@class='dataTable01']/tbody/tr[1]/td\")\n",
    "        element3 = browser.find_element(\"xpath\", \"//*[@class = 'dataTable01']/tbody/tr[2]/td/a\")\n",
    "        element4 = browser.find_element(\"xpath\", \"//*[@class = 'dataTable01']/tbody/tr[4]/td/a\")\n",
    "        time.sleep(1)\n",
    "        com_name.append(element1.text[:-5])\n",
    "        com_num.append(element2.text)\n",
    "        com_ind.append(element3.text)\n",
    "        com_market.append(element4.text)\n",
    "        time.sleep(.5)\n",
    "        browser.back()\n",
    "        time.sleep(.5)\n",
    "    page_path = f\"https://omotenashi.site/company/land-transportation/\""
   ]
  },
  {
   "attachments": {},
   "cell_type": "markdown",
   "metadata": {},
   "source": [
    "海運業"
   ]
  },
  {
   "cell_type": "code",
   "execution_count": 25,
   "metadata": {},
   "outputs": [],
   "source": [
    "page_path = f\"https://omotenashi.site/company/marine-transportation/\"\n",
    "for i in range(1, 3):\n",
    "    if i >= 2:\n",
    "        page_path += f\"index_{i}.html\"\n",
    "    else:\n",
    "        page_path = page_path\n",
    "    browser.get(page_path)\n",
    "    time.sleep(.5)\n",
    "    No_com = len(browser.find_elements(\"xpath\", \"//ul[@class = 'entryList01']/li\"))\n",
    "    for i in range(No_com):\n",
    "        i += 1\n",
    "        xpath_url = f\"//ul[@class = 'entryList01']/li[{i}]/a\"\n",
    "        browser.find_element(\"xpath\", xpath_url).click()\n",
    "        time.sleep(1)\n",
    "        element1 = browser.find_element(\"xpath\", \"//*[@class = 'deviceTtl01']\")\n",
    "        element2 = browser.find_element(\"xpath\", \"//*[@class='dataTable01']/tbody/tr[1]/td\")\n",
    "        element3 = browser.find_element(\"xpath\", \"//*[@class = 'dataTable01']/tbody/tr[2]/td/a\")\n",
    "        element4 = browser.find_element(\"xpath\", \"//*[@class = 'dataTable01']/tbody/tr[4]/td/a\")\n",
    "        time.sleep(1)\n",
    "        com_name.append(element1.text[:-5])\n",
    "        com_num.append(element2.text)\n",
    "        com_ind.append(element3.text)\n",
    "        com_market.append(element4.text)\n",
    "        time.sleep(.5)\n",
    "        browser.back()\n",
    "        time.sleep(.5)\n",
    "    page_path = f\"https://omotenashi.site/company/marine-transportation/\""
   ]
  },
  {
   "attachments": {},
   "cell_type": "markdown",
   "metadata": {},
   "source": [
    "空運業"
   ]
  },
  {
   "cell_type": "code",
   "execution_count": 26,
   "metadata": {},
   "outputs": [],
   "source": [
    "browser.get(\"https://omotenashi.site/company/air-transporataion/\")\n",
    "time.sleep(.5)\n",
    "No_com = len(browser.find_elements(\"xpath\", \"//ul[@class = 'entryList01']/li\"))\n",
    "for i in range(No_com):\n",
    "    i += 1\n",
    "    xpath_url = f\"//*[@id='contents']/section/ul/li[{i}]/a\"\n",
    "    browser.find_element(\"xpath\", xpath_url).click()\n",
    "    time.sleep(1)\n",
    "    element1 = browser.find_element(\"xpath\", \"//*[@class = 'deviceTtl01']\")\n",
    "    element2 = browser.find_element(\"xpath\", \"//*[@class='dataTable01']/tbody/tr[1]/td\")\n",
    "    element3 = browser.find_element(\"xpath\", \"//*[@class = 'dataTable01']/tbody/tr[2]/td/a\")\n",
    "    element4 = browser.find_element(\"xpath\", \"//*[@class = 'dataTable01']/tbody/tr[4]/td/a\")\n",
    "    time.sleep(1)\n",
    "    com_name.append(element1.text[:-5])\n",
    "    com_num.append(element2.text)\n",
    "    com_ind.append(element3.text)\n",
    "    com_market.append(element4.text)\n",
    "    time.sleep(.5)\n",
    "    browser.back()\n",
    "    time.sleep(.5)"
   ]
  },
  {
   "attachments": {},
   "cell_type": "markdown",
   "metadata": {},
   "source": [
    "倉庫・運輸"
   ]
  },
  {
   "cell_type": "code",
   "execution_count": 27,
   "metadata": {},
   "outputs": [],
   "source": [
    "page_path = f\"https://omotenashi.site/company/warehousing-and-harbor-transportation/\"\n",
    "for i in range(1, 5):\n",
    "    if i >= 2:\n",
    "        page_path += f\"index_{i}.html\"\n",
    "    else:\n",
    "        page_path = page_path\n",
    "    browser.get(page_path)\n",
    "    time.sleep(.5)\n",
    "    No_com = len(browser.find_elements(\"xpath\", \"//ul[@class = 'entryList01']/li\"))\n",
    "    for i in range(No_com):\n",
    "        i += 1\n",
    "        xpath_url = f\"//ul[@class = 'entryList01']/li[{i}]/a\"\n",
    "        browser.find_element(\"xpath\", xpath_url).click()\n",
    "        time.sleep(1)\n",
    "        element1 = browser.find_element(\"xpath\", \"//*[@class = 'deviceTtl01']\")\n",
    "        element2 = browser.find_element(\"xpath\", \"//*[@class='dataTable01']/tbody/tr[1]/td\")\n",
    "        element3 = browser.find_element(\"xpath\", \"//*[@class = 'dataTable01']/tbody/tr[2]/td/a\")\n",
    "        element4 = browser.find_element(\"xpath\", \"//*[@class = 'dataTable01']/tbody/tr[4]/td/a\")\n",
    "        time.sleep(1)\n",
    "        com_name.append(element1.text[:-5])\n",
    "        com_num.append(element2.text)\n",
    "        com_ind.append(element3.text)\n",
    "        com_market.append(element4.text)\n",
    "        time.sleep(.5)\n",
    "        browser.back()\n",
    "        time.sleep(.5)\n",
    "    page_path = f\"https://omotenashi.site/company/warehousing-and-harbor-transportation/\""
   ]
  },
  {
   "attachments": {},
   "cell_type": "markdown",
   "metadata": {},
   "source": [
    "情報・通信業"
   ]
  },
  {
   "cell_type": "code",
   "execution_count": 28,
   "metadata": {},
   "outputs": [],
   "source": [
    "page_path = f\"https://omotenashi.site/company/information-and-communication/\"\n",
    "for i in range(1, 43):\n",
    "    if i >= 2:\n",
    "        page_path += f\"index_{i}.html\"\n",
    "    else:\n",
    "        page_path = page_path\n",
    "    browser.get(page_path)\n",
    "    time.sleep(.5)\n",
    "    No_com = len(browser.find_elements(\"xpath\", \"//ul[@class = 'entryList01']/li\"))\n",
    "    for i in range(No_com):\n",
    "        i += 1\n",
    "        xpath_url = f\"//ul[@class = 'entryList01']/li[{i}]/a\"\n",
    "        browser.find_element(\"xpath\", xpath_url).click()\n",
    "        time.sleep(1)\n",
    "        element1 = browser.find_element(\"xpath\", \"//*[@class = 'deviceTtl01']\")\n",
    "        element2 = browser.find_element(\"xpath\", \"//*[@class='dataTable01']/tbody/tr[1]/td\")\n",
    "        element3 = browser.find_element(\"xpath\", \"//*[@class = 'dataTable01']/tbody/tr[2]/td/a\")\n",
    "        element4 = browser.find_element(\"xpath\", \"//*[@class = 'dataTable01']/tbody/tr[4]/td/a\")\n",
    "        time.sleep(1)\n",
    "        com_name.append(element1.text[:-5])\n",
    "        com_num.append(element2.text)\n",
    "        com_ind.append(element3.text)\n",
    "        com_market.append(element4.text)\n",
    "        time.sleep(.5)\n",
    "        browser.back()\n",
    "        time.sleep(.5)\n",
    "    page_path = f\"https://omotenashi.site/company/information-and-communication/\""
   ]
  },
  {
   "attachments": {},
   "cell_type": "markdown",
   "metadata": {},
   "source": [
    "卸売業"
   ]
  },
  {
   "cell_type": "code",
   "execution_count": 29,
   "metadata": {},
   "outputs": [],
   "source": [
    "page_path = f\"https://omotenashi.site/company/wholesale-trade/\"\n",
    "for i in range(1, 35):\n",
    "    if i >= 2:\n",
    "        page_path += f\"index_{i}.html\"\n",
    "    else:\n",
    "        page_path = page_path\n",
    "    browser.get(page_path)\n",
    "    time.sleep(.5)\n",
    "    No_com = len(browser.find_elements(\"xpath\", \"//ul[@class = 'entryList01']/li\"))\n",
    "    for i in range(No_com):\n",
    "        i += 1\n",
    "        xpath_url = f\"//ul[@class = 'entryList01']/li[{i}]/a\"\n",
    "        browser.find_element(\"xpath\", xpath_url).click()\n",
    "        time.sleep(1)\n",
    "        element1 = browser.find_element(\"xpath\", \"//*[@class = 'deviceTtl01']\")\n",
    "        element2 = browser.find_element(\"xpath\", \"//*[@class='dataTable01']/tbody/tr[1]/td\")\n",
    "        element3 = browser.find_element(\"xpath\", \"//*[@class = 'dataTable01']/tbody/tr[2]/td/a\")\n",
    "        element4 = browser.find_element(\"xpath\", \"//*[@class = 'dataTable01']/tbody/tr[4]/td/a\")\n",
    "        time.sleep(1)\n",
    "        com_name.append(element1.text[:-5])\n",
    "        com_num.append(element2.text)\n",
    "        com_ind.append(element3.text)\n",
    "        com_market.append(element4.text)\n",
    "        time.sleep(.5)\n",
    "        browser.back()\n",
    "        time.sleep(.5)\n",
    "    page_path = f\"https://omotenashi.site/company/wholesale-trade/\""
   ]
  },
  {
   "attachments": {},
   "cell_type": "markdown",
   "metadata": {},
   "source": [
    "小売業"
   ]
  },
  {
   "cell_type": "code",
   "execution_count": 30,
   "metadata": {},
   "outputs": [],
   "source": [
    "page_path = f\"https://omotenashi.site/company/retail-trade/\"\n",
    "for i in range(1, 37):\n",
    "    if i >= 2:\n",
    "        page_path += f\"index_{i}.html\"\n",
    "    else:\n",
    "        page_path = page_path\n",
    "    browser.get(page_path)\n",
    "    time.sleep(.5)\n",
    "    No_com = len(browser.find_elements(\"xpath\", \"//ul[@class = 'entryList01']/li\"))\n",
    "    for i in range(No_com):\n",
    "        i += 1\n",
    "        xpath_url = f\"//ul[@class = 'entryList01']/li[{i}]/a\"\n",
    "        browser.find_element(\"xpath\", xpath_url).click()\n",
    "        time.sleep(1)\n",
    "        element1 = browser.find_element(\"xpath\", \"//*[@class = 'deviceTtl01']\")\n",
    "        element2 = browser.find_element(\"xpath\", \"//*[@class='dataTable01']/tbody/tr[1]/td\")\n",
    "        element3 = browser.find_element(\"xpath\", \"//*[@class = 'dataTable01']/tbody/tr[2]/td/a\")\n",
    "        element4 = browser.find_element(\"xpath\", \"//*[@class = 'dataTable01']/tbody/tr[4]/td/a\")\n",
    "        time.sleep(1)\n",
    "        com_name.append(element1.text[:-5])\n",
    "        com_num.append(element2.text)\n",
    "        com_ind.append(element3.text)\n",
    "        com_market.append(element4.text)\n",
    "        time.sleep(.5)\n",
    "        browser.back()\n",
    "        time.sleep(.5)\n",
    "    page_path = f\"https://omotenashi.site/company/retail-trade/\""
   ]
  },
  {
   "attachments": {},
   "cell_type": "markdown",
   "metadata": {},
   "source": [
    "銀行業"
   ]
  },
  {
   "cell_type": "code",
   "execution_count": 31,
   "metadata": {},
   "outputs": [],
   "source": [
    "page_path = f\"https://omotenashi.site/company/banks/\"\n",
    "for i in range(1, 11):\n",
    "    if i >= 2:\n",
    "        page_path += f\"index_{i}.html\"\n",
    "    else:\n",
    "        page_path = page_path\n",
    "    browser.get(page_path)\n",
    "    time.sleep(.5)\n",
    "    No_com = len(browser.find_elements(\"xpath\", \"//ul[@class = 'entryList01']/li\"))\n",
    "    for i in range(No_com):\n",
    "        i += 1\n",
    "        xpath_url = f\"//ul[@class = 'entryList01']/li[{i}]/a\"\n",
    "        browser.find_element(\"xpath\", xpath_url).click()\n",
    "        time.sleep(1)\n",
    "        element1 = browser.find_element(\"xpath\", \"//*[@class = 'deviceTtl01']\")\n",
    "        element2 = browser.find_element(\"xpath\", \"//*[@class='dataTable01']/tbody/tr[1]/td\")\n",
    "        element3 = browser.find_element(\"xpath\", \"//*[@class = 'dataTable01']/tbody/tr[2]/td/a\")\n",
    "        element4 = browser.find_element(\"xpath\", \"//*[@class = 'dataTable01']/tbody/tr[4]/td/a\")\n",
    "        time.sleep(1)\n",
    "        com_name.append(element1.text[:-5])\n",
    "        com_num.append(element2.text)\n",
    "        com_ind.append(element3.text)\n",
    "        com_market.append(element4.text)\n",
    "        time.sleep(.5)\n",
    "        browser.back()\n",
    "        time.sleep(.5)\n",
    "    page_path = f\"https://omotenashi.site/company/banks/\""
   ]
  },
  {
   "attachments": {},
   "cell_type": "markdown",
   "metadata": {},
   "source": [
    "証券・商品"
   ]
  },
  {
   "cell_type": "code",
   "execution_count": 32,
   "metadata": {},
   "outputs": [],
   "source": [
    "page_path = f\"https://omotenashi.site/company/securities-and-commodities-futures/\"\n",
    "for i in range(1, 6):\n",
    "    if i >= 2:\n",
    "        page_path += f\"index_{i}.html\"\n",
    "    else:\n",
    "        page_path = page_path\n",
    "    browser.get(page_path)\n",
    "    time.sleep(.5)\n",
    "    No_com = len(browser.find_elements(\"xpath\", \"//ul[@class = 'entryList01']/li\"))\n",
    "    for i in range(No_com):\n",
    "        i += 1\n",
    "        xpath_url = f\"//ul[@class = 'entryList01']/li[{i}]/a\"\n",
    "        browser.find_element(\"xpath\", xpath_url).click()\n",
    "        time.sleep(1)\n",
    "        element1 = browser.find_element(\"xpath\", \"//*[@class = 'deviceTtl01']\")\n",
    "        element2 = browser.find_element(\"xpath\", \"//*[@class='dataTable01']/tbody/tr[1]/td\")\n",
    "        element3 = browser.find_element(\"xpath\", \"//*[@class = 'dataTable01']/tbody/tr[2]/td/a\")\n",
    "        element4 = browser.find_element(\"xpath\", \"//*[@class = 'dataTable01']/tbody/tr[4]/td/a\")\n",
    "        time.sleep(1)\n",
    "        com_name.append(element1.text[:-5])\n",
    "        com_num.append(element2.text)\n",
    "        com_ind.append(element3.text)\n",
    "        com_market.append(element4.text)\n",
    "        time.sleep(.5)\n",
    "        browser.back()\n",
    "        time.sleep(.5)\n",
    "    page_path = f\"https://omotenashi.site/company/securities-and-commodities-futures/\""
   ]
  },
  {
   "attachments": {},
   "cell_type": "markdown",
   "metadata": {},
   "source": [
    "保険業"
   ]
  },
  {
   "cell_type": "code",
   "execution_count": 33,
   "metadata": {},
   "outputs": [],
   "source": [
    "page_path = f\"https://omotenashi.site/company/insurance/\"\n",
    "for i in range(1, 3):\n",
    "    if i >= 2:\n",
    "        page_path += f\"index_{i}.html\"\n",
    "    else:\n",
    "        page_path = page_path\n",
    "    browser.get(page_path)\n",
    "    time.sleep(.5)\n",
    "    No_com = len(browser.find_elements(\"xpath\", \"//ul[@class = 'entryList01']/li\"))\n",
    "    for i in range(No_com):\n",
    "        i += 1\n",
    "        xpath_url = f\"//ul[@class = 'entryList01']/li[{i}]/a\"\n",
    "        browser.find_element(\"xpath\", xpath_url).click()\n",
    "        time.sleep(1)\n",
    "        element1 = browser.find_element(\"xpath\", \"//*[@class = 'deviceTtl01']\")\n",
    "        element2 = browser.find_element(\"xpath\", \"//*[@class='dataTable01']/tbody/tr[1]/td\")\n",
    "        element3 = browser.find_element(\"xpath\", \"//*[@class = 'dataTable01']/tbody/tr[2]/td/a\")\n",
    "        element4 = browser.find_element(\"xpath\", \"//*[@class = 'dataTable01']/tbody/tr[4]/td/a\")\n",
    "        time.sleep(1)\n",
    "        com_name.append(element1.text[:-5])\n",
    "        com_num.append(element2.text)\n",
    "        com_ind.append(element3.text)\n",
    "        com_market.append(element4.text)\n",
    "        time.sleep(.5)\n",
    "        browser.back()\n",
    "        time.sleep(.5)\n",
    "    page_path = f\"https://omotenashi.site/company/insurance/\""
   ]
  },
  {
   "attachments": {},
   "cell_type": "markdown",
   "metadata": {},
   "source": [
    "不動産業"
   ]
  },
  {
   "cell_type": "code",
   "execution_count": 34,
   "metadata": {},
   "outputs": [],
   "source": [
    "page_path = f\"https://omotenashi.site/company/real-estate/\"\n",
    "for i in range(1, 14):\n",
    "    if i >= 2:\n",
    "        page_path += f\"index_{i}.html\"\n",
    "    else:\n",
    "        page_path = page_path\n",
    "    browser.get(page_path)\n",
    "    time.sleep(.5)\n",
    "    No_com = len(browser.find_elements(\"xpath\", \"//ul[@class = 'entryList01']/li\"))\n",
    "    for i in range(No_com):\n",
    "        i += 1\n",
    "        xpath_url = f\"//ul[@class = 'entryList01']/li[{i}]/a\"\n",
    "        browser.find_element(\"xpath\", xpath_url).click()\n",
    "        time.sleep(1)\n",
    "        element1 = browser.find_element(\"xpath\", \"//*[@class = 'deviceTtl01']\")\n",
    "        element2 = browser.find_element(\"xpath\", \"//*[@class='dataTable01']/tbody/tr[1]/td\")\n",
    "        element3 = browser.find_element(\"xpath\", \"//*[@class = 'dataTable01']/tbody/tr[2]/td/a\")\n",
    "        element4 = browser.find_element(\"xpath\", \"//*[@class = 'dataTable01']/tbody/tr[4]/td/a\")\n",
    "        time.sleep(1)\n",
    "        com_name.append(element1.text[:-5])\n",
    "        com_num.append(element2.text)\n",
    "        com_ind.append(element3.text)\n",
    "        com_market.append(element4.text)\n",
    "        time.sleep(.5)\n",
    "        browser.back()\n",
    "        time.sleep(.5)\n",
    "    page_path = f\"https://omotenashi.site/company/real-estate/\""
   ]
  },
  {
   "attachments": {},
   "cell_type": "markdown",
   "metadata": {},
   "source": [
    "サービス業"
   ]
  },
  {
   "cell_type": "code",
   "execution_count": 35,
   "metadata": {},
   "outputs": [],
   "source": [
    "page_path = f\"https://omotenashi.site/company/services/\"\n",
    "for i in range(1, 44):\n",
    "    if i >= 2:\n",
    "        page_path += f\"index_{i}.html\"\n",
    "    else:\n",
    "        page_path = page_path\n",
    "    browser.get(page_path)\n",
    "    time.sleep(.5)\n",
    "    No_com = len(browser.find_elements(\"xpath\", \"//ul[@class = 'entryList01']/li\"))\n",
    "    for i in range(No_com):\n",
    "        i += 1\n",
    "        xpath_url = f\"//ul[@class = 'entryList01']/li[{i}]/a\"\n",
    "        browser.find_element(\"xpath\", xpath_url).click()\n",
    "        time.sleep(1)\n",
    "        element1 = browser.find_element(\"xpath\", \"//*[@class = 'deviceTtl01']\")\n",
    "        element2 = browser.find_element(\"xpath\", \"//*[@class='dataTable01']/tbody/tr[1]/td\")\n",
    "        element3 = browser.find_element(\"xpath\", \"//*[@class = 'dataTable01']/tbody/tr[2]/td/a\")\n",
    "        element4 = browser.find_element(\"xpath\", \"//*[@class = 'dataTable01']/tbody/tr[4]/td/a\")\n",
    "        time.sleep(1)\n",
    "        com_name.append(element1.text[:-5])\n",
    "        com_num.append(element2.text)\n",
    "        com_ind.append(element3.text)\n",
    "        com_market.append(element4.text)\n",
    "        time.sleep(.5)\n",
    "        browser.back()\n",
    "        time.sleep(.5)\n",
    "    page_path = f\"https://omotenashi.site/company/services/\""
   ]
  },
  {
   "attachments": {},
   "cell_type": "markdown",
   "metadata": {},
   "source": [
    "繊維製品"
   ]
  },
  {
   "cell_type": "code",
   "execution_count": 36,
   "metadata": {},
   "outputs": [],
   "source": [
    "page_path = f\"https://omotenashi.site/company/fiber-products/\"\n",
    "for i in range(1, 7):\n",
    "    if i >= 2:\n",
    "        page_path += f\"index_{i}.html\"\n",
    "    else:\n",
    "        page_path = page_path\n",
    "    browser.get(page_path)\n",
    "    time.sleep(.5)\n",
    "    No_com = len(browser.find_elements(\"xpath\", \"//ul[@class = 'entryList01']/li\"))\n",
    "    for i in range(No_com):\n",
    "        i += 1\n",
    "        xpath_url = f\"//ul[@class = 'entryList01']/li[{i}]/a\"\n",
    "        browser.find_element(\"xpath\", xpath_url).click()\n",
    "        time.sleep(1)\n",
    "        element1 = browser.find_element(\"xpath\", \"//*[@class = 'deviceTtl01']\")\n",
    "        element2 = browser.find_element(\"xpath\", \"//*[@class='dataTable01']/tbody/tr[1]/td\")\n",
    "        element3 = browser.find_element(\"xpath\", \"//*[@class = 'dataTable01']/tbody/tr[2]/td/a\")\n",
    "        element4 = browser.find_element(\"xpath\", \"//*[@class = 'dataTable01']/tbody/tr[4]/td/a\")\n",
    "        time.sleep(1)\n",
    "        com_name.append(element1.text[:-5])\n",
    "        com_num.append(element2.text)\n",
    "        com_ind.append(element3.text)\n",
    "        com_market.append(element4.text)\n",
    "        time.sleep(.5)\n",
    "        browser.back()\n",
    "        time.sleep(.5)\n",
    "    page_path = f\"https://omotenashi.site/company/fiber-products/\""
   ]
  },
  {
   "cell_type": "markdown",
   "metadata": {},
   "source": [
    "その他金融業"
   ]
  },
  {
   "cell_type": "code",
   "execution_count": 37,
   "metadata": {},
   "outputs": [],
   "source": [
    "page_path = f\"https://omotenashi.site/company/other-financial-industry/\"\n",
    "for i in range(1, 5):\n",
    "    if i >= 2:\n",
    "        page_path += f\"index_{i}.html\"\n",
    "    else:\n",
    "        page_path = page_path\n",
    "    browser.get(page_path)\n",
    "    time.sleep(.5)\n",
    "    No_com = len(browser.find_elements(\"xpath\", \"//ul[@class = 'entryList01']/li\"))\n",
    "    for i in range(No_com):\n",
    "        i += 1\n",
    "        xpath_url = f\"//ul[@class = 'entryList01']/li[{i}]/a\"\n",
    "        browser.find_element(\"xpath\", xpath_url).click()\n",
    "        time.sleep(1)\n",
    "        element1 = browser.find_element(\"xpath\", \"//*[@class = 'deviceTtl01']\")\n",
    "        element2 = browser.find_element(\"xpath\", \"//*[@class='dataTable01']/tbody/tr[1]/td\")\n",
    "        element3 = browser.find_element(\"xpath\", \"//*[@class = 'dataTable01']/tbody/tr[2]/td/a\")\n",
    "        element4 = browser.find_element(\"xpath\", \"//*[@class = 'dataTable01']/tbody/tr[4]/td/a\")\n",
    "        time.sleep(1)\n",
    "        com_name.append(element1.text[:-5])\n",
    "        com_num.append(element2.text)\n",
    "        com_ind.append(element3.text)\n",
    "        com_market.append(element4.text)\n",
    "        time.sleep(.5)\n",
    "        browser.back()\n",
    "        time.sleep(.5)\n",
    "    page_path = f\"https://omotenashi.site/company/other-financial-industry/\""
   ]
  },
  {
   "cell_type": "code",
   "execution_count": 38,
   "metadata": {},
   "outputs": [],
   "source": [
    "com_name.insert(0, \"極洋\")\n",
    "com_num.insert(0, \"1301\")\n",
    "com_ind.insert(0, '水産・農林業')\n",
    "com_market.insert(0, '東証1部')\n",
    "df_zip1 = list(zip(com_name, com_num, com_ind, com_market))\n",
    "df = pd.DataFrame(df_zip1, columns=[\"Company Name\", \"Stock Code\", \"Industry33\", \"Market\"]).set_index('Company Name')\n",
    "df['Stock Code'] = df[\"Stock Code\"].astype(int)"
   ]
  },
  {
   "cell_type": "code",
   "execution_count": null,
   "metadata": {},
   "outputs": [],
   "source": [
    "browser.close()"
   ]
  },
  {
   "cell_type": "code",
   "execution_count": 39,
   "metadata": {},
   "outputs": [],
   "source": [
    "omotenashi_zip = list(zip(com_name, com_num, com_ind, com_market))\n",
    "dat1 = pd.DataFrame(omotenashi_zip, columns = ['Company Name', 'Stock Code', 'Industry33', 'Stock Market'])"
   ]
  },
  {
   "attachments": {},
   "cell_type": "markdown",
   "metadata": {},
   "source": [
    "## みんかぶサイト"
   ]
  },
  {
   "attachments": {},
   "cell_type": "markdown",
   "metadata": {},
   "source": [
    "#### 農林水産業"
   ]
  },
  {
   "cell_type": "code",
   "execution_count": 7,
   "metadata": {},
   "outputs": [],
   "source": [
    "CHROME_DRIVER = \"C:/Users/ichir/Documents/seminar/chrome_driver/chromedriver.exe\"\n",
    "chrome_service = service.Service(executable_path = CHROME_DRIVER)\n",
    "browser = webdriver.Chrome(service=chrome_service)"
   ]
  },
  {
   "cell_type": "code",
   "execution_count": 8,
   "metadata": {},
   "outputs": [],
   "source": [
    "company_name = []\n",
    "company_number = []\n",
    "company_industry = []\n",
    "company_market = []"
   ]
  },
  {
   "cell_type": "code",
   "execution_count": 9,
   "metadata": {},
   "outputs": [],
   "source": [
    "browser.get(\"https://minkabu.jp/stock/stocksitemap/1\")\n",
    "company_name1 = []\n",
    "company_number1 = []\n",
    "company_industry1 = []\n",
    "company_market1 = []\n",
    "companies_list = browser.find_elements(\"xpath\", \"//table[@class = 'md_table']/tbody/tr/td[@class = 'vamd']\")\n",
    "for i in range(len(companies_list)):\n",
    "    i += 2\n",
    "    com_url = f\"//table[@class = 'md_table']/tbody/tr[{i}]/td[@class = 'vamd']/div[2]/a\"\n",
    "    browser.find_element(\"xpath\", com_url).click()\n",
    "    com_name = browser.find_element(\"xpath\", \"//p[@class = 'md_stockBoard_stockName']\")\n",
    "    com_number_and_market = browser.find_element(\"xpath\", \"//div[@class = 'stock_label']\")\n",
    "    com_ind =  browser.find_element(\"xpath\", \"//a[@href = '/stock/stocksitemap/1']\")\n",
    "    time.sleep(.5)\n",
    "    company_name1.append(com_name.text)\n",
    "    company_number1.append(com_number_and_market.text[:4])\n",
    "    company_market1.append(com_number_and_market.text[6:])\n",
    "    company_industry1.append(com_ind.text)\n",
    "    browser.back()\n",
    "    time.sleep(.5)"
   ]
  },
  {
   "cell_type": "code",
   "execution_count": 10,
   "metadata": {},
   "outputs": [],
   "source": [
    "browser.close()"
   ]
  },
  {
   "cell_type": "code",
   "execution_count": 11,
   "metadata": {},
   "outputs": [],
   "source": [
    "company_name += company_name1\n",
    "company_number += company_number1\n",
    "company_industry += company_industry1\n",
    "company_market += company_market1"
   ]
  },
  {
   "attachments": {},
   "cell_type": "markdown",
   "metadata": {},
   "source": [
    "#### 鉱業"
   ]
  },
  {
   "cell_type": "code",
   "execution_count": 12,
   "metadata": {},
   "outputs": [],
   "source": [
    "CHROME_DRIVER = \"C:/Users/ichir/Documents/seminar/chrome_driver/chromedriver.exe\"\n",
    "chrome_service = service.Service(executable_path = CHROME_DRIVER)\n",
    "browser = webdriver.Chrome(service=chrome_service)"
   ]
  },
  {
   "cell_type": "code",
   "execution_count": 13,
   "metadata": {},
   "outputs": [
    {
     "ename": "WebDriverException",
     "evalue": "Message: unknown error: cannot determine loading status\nfrom disconnected: unable to send message to renderer\n  (Session info: chrome=110.0.5481.77)\nStacktrace:\nBacktrace:\n\t(No symbol) [0x00EF6643]\n\t(No symbol) [0x00E8BE21]\n\t(No symbol) [0x00D8DA9D]\n\t(No symbol) [0x00D7DE66]\n\t(No symbol) [0x00D7E647]\n\t(No symbol) [0x00D8882A]\n\t(No symbol) [0x00D94956]\n\t(No symbol) [0x00D981C6]\n\t(No symbol) [0x00D7E9F1]\n\t(No symbol) [0x00D94517]\n\t(No symbol) [0x00DF7057]\n\t(No symbol) [0x00DDFB76]\n\t(No symbol) [0x00DB49C1]\n\t(No symbol) [0x00DB5E5D]\n\tGetHandleVerifier [0x0116A142+2497106]\n\tGetHandleVerifier [0x011985D3+2686691]\n\tGetHandleVerifier [0x0119BB9C+2700460]\n\tGetHandleVerifier [0x00FA3B10+635936]\n\t(No symbol) [0x00E94A1F]\n\t(No symbol) [0x00E9A418]\n\t(No symbol) [0x00E9A505]\n\t(No symbol) [0x00EA508B]\n\tBaseThreadInitThunk [0x75827D69+25]\n\tRtlInitializeExceptionChain [0x77B5BB9B+107]\n\tRtlClearBits [0x77B5BB1F+191]\n",
     "output_type": "error",
     "traceback": [
      "\u001b[1;31m---------------------------------------------------------------------------\u001b[0m",
      "\u001b[1;31mWebDriverException\u001b[0m                        Traceback (most recent call last)",
      "Cell \u001b[1;32mIn[13], line 10\u001b[0m\n\u001b[0;32m      8\u001b[0m i \u001b[39m+\u001b[39m\u001b[39m=\u001b[39m \u001b[39m2\u001b[39m\n\u001b[0;32m      9\u001b[0m com_url \u001b[39m=\u001b[39m \u001b[39mf\u001b[39m\u001b[39m\"\u001b[39m\u001b[39m//table[@class = \u001b[39m\u001b[39m'\u001b[39m\u001b[39mmd_table\u001b[39m\u001b[39m'\u001b[39m\u001b[39m]/tbody/tr[\u001b[39m\u001b[39m{\u001b[39;00mi\u001b[39m}\u001b[39;00m\u001b[39m]/td[@class = \u001b[39m\u001b[39m'\u001b[39m\u001b[39mvamd\u001b[39m\u001b[39m'\u001b[39m\u001b[39m]/div[2]/a\u001b[39m\u001b[39m\"\u001b[39m\n\u001b[1;32m---> 10\u001b[0m browser\u001b[39m.\u001b[39;49mfind_element(\u001b[39m\"\u001b[39;49m\u001b[39mxpath\u001b[39;49m\u001b[39m\"\u001b[39;49m, com_url)\u001b[39m.\u001b[39;49mclick()\n\u001b[0;32m     11\u001b[0m com_name \u001b[39m=\u001b[39m browser\u001b[39m.\u001b[39mfind_element(\u001b[39m\"\u001b[39m\u001b[39mxpath\u001b[39m\u001b[39m\"\u001b[39m, \u001b[39m\"\u001b[39m\u001b[39m//p[@class = \u001b[39m\u001b[39m'\u001b[39m\u001b[39mmd_stockBoard_stockName\u001b[39m\u001b[39m'\u001b[39m\u001b[39m]\u001b[39m\u001b[39m\"\u001b[39m)\n\u001b[0;32m     12\u001b[0m com_number_and_market \u001b[39m=\u001b[39m browser\u001b[39m.\u001b[39mfind_element(\u001b[39m\"\u001b[39m\u001b[39mxpath\u001b[39m\u001b[39m\"\u001b[39m, \u001b[39m\"\u001b[39m\u001b[39m//div[@class = \u001b[39m\u001b[39m'\u001b[39m\u001b[39mstock_label\u001b[39m\u001b[39m'\u001b[39m\u001b[39m]\u001b[39m\u001b[39m\"\u001b[39m)\n",
      "File \u001b[1;32mc:\\Users\\ichir\\AppData\\Local\\Programs\\Python\\Python311\\Lib\\site-packages\\selenium\\webdriver\\remote\\webelement.py:93\u001b[0m, in \u001b[0;36mWebElement.click\u001b[1;34m(self)\u001b[0m\n\u001b[0;32m     91\u001b[0m \u001b[39mdef\u001b[39;00m \u001b[39mclick\u001b[39m(\u001b[39mself\u001b[39m) \u001b[39m-\u001b[39m\u001b[39m>\u001b[39m \u001b[39mNone\u001b[39;00m:\n\u001b[0;32m     92\u001b[0m \u001b[39m    \u001b[39m\u001b[39m\"\"\"Clicks the element.\"\"\"\u001b[39;00m\n\u001b[1;32m---> 93\u001b[0m     \u001b[39mself\u001b[39;49m\u001b[39m.\u001b[39;49m_execute(Command\u001b[39m.\u001b[39;49mCLICK_ELEMENT)\n",
      "File \u001b[1;32mc:\\Users\\ichir\\AppData\\Local\\Programs\\Python\\Python311\\Lib\\site-packages\\selenium\\webdriver\\remote\\webelement.py:410\u001b[0m, in \u001b[0;36mWebElement._execute\u001b[1;34m(self, command, params)\u001b[0m\n\u001b[0;32m    408\u001b[0m     params \u001b[39m=\u001b[39m {}\n\u001b[0;32m    409\u001b[0m params[\u001b[39m\"\u001b[39m\u001b[39mid\u001b[39m\u001b[39m\"\u001b[39m] \u001b[39m=\u001b[39m \u001b[39mself\u001b[39m\u001b[39m.\u001b[39m_id\n\u001b[1;32m--> 410\u001b[0m \u001b[39mreturn\u001b[39;00m \u001b[39mself\u001b[39;49m\u001b[39m.\u001b[39;49m_parent\u001b[39m.\u001b[39;49mexecute(command, params)\n",
      "File \u001b[1;32mc:\\Users\\ichir\\AppData\\Local\\Programs\\Python\\Python311\\Lib\\site-packages\\selenium\\webdriver\\remote\\webdriver.py:444\u001b[0m, in \u001b[0;36mWebDriver.execute\u001b[1;34m(self, driver_command, params)\u001b[0m\n\u001b[0;32m    442\u001b[0m response \u001b[39m=\u001b[39m \u001b[39mself\u001b[39m\u001b[39m.\u001b[39mcommand_executor\u001b[39m.\u001b[39mexecute(driver_command, params)\n\u001b[0;32m    443\u001b[0m \u001b[39mif\u001b[39;00m response:\n\u001b[1;32m--> 444\u001b[0m     \u001b[39mself\u001b[39;49m\u001b[39m.\u001b[39;49merror_handler\u001b[39m.\u001b[39;49mcheck_response(response)\n\u001b[0;32m    445\u001b[0m     response[\u001b[39m\"\u001b[39m\u001b[39mvalue\u001b[39m\u001b[39m\"\u001b[39m] \u001b[39m=\u001b[39m \u001b[39mself\u001b[39m\u001b[39m.\u001b[39m_unwrap_value(response\u001b[39m.\u001b[39mget(\u001b[39m\"\u001b[39m\u001b[39mvalue\u001b[39m\u001b[39m\"\u001b[39m, \u001b[39mNone\u001b[39;00m))\n\u001b[0;32m    446\u001b[0m     \u001b[39mreturn\u001b[39;00m response\n",
      "File \u001b[1;32mc:\\Users\\ichir\\AppData\\Local\\Programs\\Python\\Python311\\Lib\\site-packages\\selenium\\webdriver\\remote\\errorhandler.py:249\u001b[0m, in \u001b[0;36mErrorHandler.check_response\u001b[1;34m(self, response)\u001b[0m\n\u001b[0;32m    247\u001b[0m         alert_text \u001b[39m=\u001b[39m value[\u001b[39m\"\u001b[39m\u001b[39malert\u001b[39m\u001b[39m\"\u001b[39m]\u001b[39m.\u001b[39mget(\u001b[39m\"\u001b[39m\u001b[39mtext\u001b[39m\u001b[39m\"\u001b[39m)\n\u001b[0;32m    248\u001b[0m     \u001b[39mraise\u001b[39;00m exception_class(message, screen, stacktrace, alert_text)  \u001b[39m# type: ignore[call-arg]  # mypy is not smart enough here\u001b[39;00m\n\u001b[1;32m--> 249\u001b[0m \u001b[39mraise\u001b[39;00m exception_class(message, screen, stacktrace)\n",
      "\u001b[1;31mWebDriverException\u001b[0m: Message: unknown error: cannot determine loading status\nfrom disconnected: unable to send message to renderer\n  (Session info: chrome=110.0.5481.77)\nStacktrace:\nBacktrace:\n\t(No symbol) [0x00EF6643]\n\t(No symbol) [0x00E8BE21]\n\t(No symbol) [0x00D8DA9D]\n\t(No symbol) [0x00D7DE66]\n\t(No symbol) [0x00D7E647]\n\t(No symbol) [0x00D8882A]\n\t(No symbol) [0x00D94956]\n\t(No symbol) [0x00D981C6]\n\t(No symbol) [0x00D7E9F1]\n\t(No symbol) [0x00D94517]\n\t(No symbol) [0x00DF7057]\n\t(No symbol) [0x00DDFB76]\n\t(No symbol) [0x00DB49C1]\n\t(No symbol) [0x00DB5E5D]\n\tGetHandleVerifier [0x0116A142+2497106]\n\tGetHandleVerifier [0x011985D3+2686691]\n\tGetHandleVerifier [0x0119BB9C+2700460]\n\tGetHandleVerifier [0x00FA3B10+635936]\n\t(No symbol) [0x00E94A1F]\n\t(No symbol) [0x00E9A418]\n\t(No symbol) [0x00E9A505]\n\t(No symbol) [0x00EA508B]\n\tBaseThreadInitThunk [0x75827D69+25]\n\tRtlInitializeExceptionChain [0x77B5BB9B+107]\n\tRtlClearBits [0x77B5BB1F+191]\n"
     ]
    }
   ],
   "source": [
    "browser.get(\"https://minkabu.jp/stock/stocksitemap/2\")\n",
    "company_name2 = []\n",
    "company_number2 = []\n",
    "company_industry2 = []\n",
    "company_market2 = []\n",
    "companies_list = browser.find_elements(\"xpath\", \"//table[@class = 'md_table']/tbody/tr/td[@class = 'vamd']\")\n",
    "for i in range(len(companies_list)):\n",
    "    i += 2\n",
    "    com_url = f\"//table[@class = 'md_table']/tbody/tr[{i}]/td[@class = 'vamd']/div[2]/a\"\n",
    "    browser.find_element(\"xpath\", com_url).click()\n",
    "    com_name = browser.find_element(\"xpath\", \"//p[@class = 'md_stockBoard_stockName']\")\n",
    "    com_number_and_market = browser.find_element(\"xpath\", \"//div[@class = 'stock_label']\")\n",
    "    com_ind =  browser.find_element(\"xpath\", \"//a[@href = '/stock/stocksitemap/2']\")\n",
    "    time.sleep(.5)\n",
    "    company_name2.append(com_name.text)\n",
    "    company_number2.append(com_number_and_market.text[:4])\n",
    "    company_market2.append(com_number_and_market.text[6:])\n",
    "    company_industry2.append(com_ind.text)\n",
    "    browser.back()\n",
    "    time.sleep(.5)"
   ]
  },
  {
   "cell_type": "code",
   "execution_count": null,
   "metadata": {},
   "outputs": [],
   "source": [
    "browser.close()"
   ]
  },
  {
   "cell_type": "code",
   "execution_count": null,
   "metadata": {},
   "outputs": [],
   "source": [
    "company_name += company_name2\n",
    "company_number += company_number2\n",
    "company_industry += company_industry2\n",
    "company_market += company_market2"
   ]
  },
  {
   "attachments": {},
   "cell_type": "markdown",
   "metadata": {},
   "source": [
    "#### 建設業"
   ]
  },
  {
   "cell_type": "code",
   "execution_count": 28,
   "metadata": {},
   "outputs": [],
   "source": [
    "CHROME_DRIVER = \"C:/Users/ichir/Documents/seminar/chrome_driver/chromedriver.exe\"\n",
    "chrome_service = service.Service(executable_path = CHROME_DRIVER)\n",
    "browser = webdriver.Chrome(service=chrome_service)"
   ]
  },
  {
   "cell_type": "code",
   "execution_count": 29,
   "metadata": {},
   "outputs": [
    {
     "ename": "WebDriverException",
     "evalue": "Message: unknown error: cannot determine loading status\nfrom disconnected: unable to send message to renderer\n  (Session info: chrome=110.0.5481.77)\nStacktrace:\nBacktrace:\n\t(No symbol) [0x00EF6643]\n\t(No symbol) [0x00E8BE21]\n\t(No symbol) [0x00D8DA9D]\n\t(No symbol) [0x00D7DE66]\n\t(No symbol) [0x00D7E647]\n\t(No symbol) [0x00D8882A]\n\t(No symbol) [0x00D94956]\n\t(No symbol) [0x00D981C6]\n\t(No symbol) [0x00D7E9F1]\n\t(No symbol) [0x00D94517]\n\t(No symbol) [0x00DF7057]\n\t(No symbol) [0x00DDFB76]\n\t(No symbol) [0x00DB49C1]\n\t(No symbol) [0x00DB5E5D]\n\tGetHandleVerifier [0x0116A142+2497106]\n\tGetHandleVerifier [0x011985D3+2686691]\n\tGetHandleVerifier [0x0119BB9C+2700460]\n\tGetHandleVerifier [0x00FA3B10+635936]\n\t(No symbol) [0x00E94A1F]\n\t(No symbol) [0x00E9A418]\n\t(No symbol) [0x00E9A505]\n\t(No symbol) [0x00EA508B]\n\tBaseThreadInitThunk [0x75827D69+25]\n\tRtlInitializeExceptionChain [0x77B5BB9B+107]\n\tRtlClearBits [0x77B5BB1F+191]\n",
     "output_type": "error",
     "traceback": [
      "\u001b[1;31m---------------------------------------------------------------------------\u001b[0m",
      "\u001b[1;31mWebDriverException\u001b[0m                        Traceback (most recent call last)",
      "Cell \u001b[1;32mIn[29], line 17\u001b[0m\n\u001b[0;32m     15\u001b[0m j \u001b[39m+\u001b[39m\u001b[39m=\u001b[39m \u001b[39m2\u001b[39m\n\u001b[0;32m     16\u001b[0m com_page \u001b[39m=\u001b[39m \u001b[39mf\u001b[39m\u001b[39m\"\u001b[39m\u001b[39m/html/body/div[1]/div[2]/div[3]/div/div[1]/div[1]/article/div[2]/div[2]/div/table/tbody/tr[\u001b[39m\u001b[39m{\u001b[39;00mj\u001b[39m}\u001b[39;00m\u001b[39m]/td[1]/div[2]/a\u001b[39m\u001b[39m\"\u001b[39m\n\u001b[1;32m---> 17\u001b[0m browser\u001b[39m.\u001b[39;49mfind_element(\u001b[39m\"\u001b[39;49m\u001b[39mxpath\u001b[39;49m\u001b[39m\"\u001b[39;49m, com_page)\u001b[39m.\u001b[39;49mclick()\n\u001b[0;32m     18\u001b[0m time\u001b[39m.\u001b[39msleep(\u001b[39m1\u001b[39m)\n\u001b[0;32m     19\u001b[0m \u001b[39mtry\u001b[39;00m:\n",
      "File \u001b[1;32mc:\\Users\\ichir\\AppData\\Local\\Programs\\Python\\Python311\\Lib\\site-packages\\selenium\\webdriver\\remote\\webelement.py:93\u001b[0m, in \u001b[0;36mWebElement.click\u001b[1;34m(self)\u001b[0m\n\u001b[0;32m     91\u001b[0m \u001b[39mdef\u001b[39;00m \u001b[39mclick\u001b[39m(\u001b[39mself\u001b[39m) \u001b[39m-\u001b[39m\u001b[39m>\u001b[39m \u001b[39mNone\u001b[39;00m:\n\u001b[0;32m     92\u001b[0m \u001b[39m    \u001b[39m\u001b[39m\"\"\"Clicks the element.\"\"\"\u001b[39;00m\n\u001b[1;32m---> 93\u001b[0m     \u001b[39mself\u001b[39;49m\u001b[39m.\u001b[39;49m_execute(Command\u001b[39m.\u001b[39;49mCLICK_ELEMENT)\n",
      "File \u001b[1;32mc:\\Users\\ichir\\AppData\\Local\\Programs\\Python\\Python311\\Lib\\site-packages\\selenium\\webdriver\\remote\\webelement.py:410\u001b[0m, in \u001b[0;36mWebElement._execute\u001b[1;34m(self, command, params)\u001b[0m\n\u001b[0;32m    408\u001b[0m     params \u001b[39m=\u001b[39m {}\n\u001b[0;32m    409\u001b[0m params[\u001b[39m\"\u001b[39m\u001b[39mid\u001b[39m\u001b[39m\"\u001b[39m] \u001b[39m=\u001b[39m \u001b[39mself\u001b[39m\u001b[39m.\u001b[39m_id\n\u001b[1;32m--> 410\u001b[0m \u001b[39mreturn\u001b[39;00m \u001b[39mself\u001b[39;49m\u001b[39m.\u001b[39;49m_parent\u001b[39m.\u001b[39;49mexecute(command, params)\n",
      "File \u001b[1;32mc:\\Users\\ichir\\AppData\\Local\\Programs\\Python\\Python311\\Lib\\site-packages\\selenium\\webdriver\\remote\\webdriver.py:444\u001b[0m, in \u001b[0;36mWebDriver.execute\u001b[1;34m(self, driver_command, params)\u001b[0m\n\u001b[0;32m    442\u001b[0m response \u001b[39m=\u001b[39m \u001b[39mself\u001b[39m\u001b[39m.\u001b[39mcommand_executor\u001b[39m.\u001b[39mexecute(driver_command, params)\n\u001b[0;32m    443\u001b[0m \u001b[39mif\u001b[39;00m response:\n\u001b[1;32m--> 444\u001b[0m     \u001b[39mself\u001b[39;49m\u001b[39m.\u001b[39;49merror_handler\u001b[39m.\u001b[39;49mcheck_response(response)\n\u001b[0;32m    445\u001b[0m     response[\u001b[39m\"\u001b[39m\u001b[39mvalue\u001b[39m\u001b[39m\"\u001b[39m] \u001b[39m=\u001b[39m \u001b[39mself\u001b[39m\u001b[39m.\u001b[39m_unwrap_value(response\u001b[39m.\u001b[39mget(\u001b[39m\"\u001b[39m\u001b[39mvalue\u001b[39m\u001b[39m\"\u001b[39m, \u001b[39mNone\u001b[39;00m))\n\u001b[0;32m    446\u001b[0m     \u001b[39mreturn\u001b[39;00m response\n",
      "File \u001b[1;32mc:\\Users\\ichir\\AppData\\Local\\Programs\\Python\\Python311\\Lib\\site-packages\\selenium\\webdriver\\remote\\errorhandler.py:249\u001b[0m, in \u001b[0;36mErrorHandler.check_response\u001b[1;34m(self, response)\u001b[0m\n\u001b[0;32m    247\u001b[0m         alert_text \u001b[39m=\u001b[39m value[\u001b[39m\"\u001b[39m\u001b[39malert\u001b[39m\u001b[39m\"\u001b[39m]\u001b[39m.\u001b[39mget(\u001b[39m\"\u001b[39m\u001b[39mtext\u001b[39m\u001b[39m\"\u001b[39m)\n\u001b[0;32m    248\u001b[0m     \u001b[39mraise\u001b[39;00m exception_class(message, screen, stacktrace, alert_text)  \u001b[39m# type: ignore[call-arg]  # mypy is not smart enough here\u001b[39;00m\n\u001b[1;32m--> 249\u001b[0m \u001b[39mraise\u001b[39;00m exception_class(message, screen, stacktrace)\n",
      "\u001b[1;31mWebDriverException\u001b[0m: Message: unknown error: cannot determine loading status\nfrom disconnected: unable to send message to renderer\n  (Session info: chrome=110.0.5481.77)\nStacktrace:\nBacktrace:\n\t(No symbol) [0x00EF6643]\n\t(No symbol) [0x00E8BE21]\n\t(No symbol) [0x00D8DA9D]\n\t(No symbol) [0x00D7DE66]\n\t(No symbol) [0x00D7E647]\n\t(No symbol) [0x00D8882A]\n\t(No symbol) [0x00D94956]\n\t(No symbol) [0x00D981C6]\n\t(No symbol) [0x00D7E9F1]\n\t(No symbol) [0x00D94517]\n\t(No symbol) [0x00DF7057]\n\t(No symbol) [0x00DDFB76]\n\t(No symbol) [0x00DB49C1]\n\t(No symbol) [0x00DB5E5D]\n\tGetHandleVerifier [0x0116A142+2497106]\n\tGetHandleVerifier [0x011985D3+2686691]\n\tGetHandleVerifier [0x0119BB9C+2700460]\n\tGetHandleVerifier [0x00FA3B10+635936]\n\t(No symbol) [0x00E94A1F]\n\t(No symbol) [0x00E9A418]\n\t(No symbol) [0x00E9A505]\n\t(No symbol) [0x00EA508B]\n\tBaseThreadInitThunk [0x75827D69+25]\n\tRtlInitializeExceptionChain [0x77B5BB9B+107]\n\tRtlClearBits [0x77B5BB1F+191]\n"
     ]
    }
   ],
   "source": [
    "page_url = f\"https://minkabu.jp/stock/stocksitemap/3\"\n",
    "company_name3 = []\n",
    "company_number3 = []\n",
    "company_market3 = []\n",
    "company_industry3 = []\n",
    "for i in range(1, 8):\n",
    "    if i >= 2:\n",
    "        page_url += f\"?page={i}\"\n",
    "    else:\n",
    "        page_url = page_url\n",
    "    browser.get(page_url)\n",
    "    time.sleep(1)\n",
    "    companies_list = browser.find_elements(\"xpath\", \"/html/body/div[1]/div[2]/div[3]/div/div[1]/div[1]/article/div[2]/div[2]/div/table/tbody/tr/td[@class = 'vamd']\")\n",
    "    for j in range(len(companies_list)):\n",
    "        j += 2\n",
    "        com_page = f\"/html/body/div[1]/div[2]/div[3]/div/div[1]/div[1]/article/div[2]/div[2]/div/table/tbody/tr[{j}]/td[1]/div[2]/a\"\n",
    "        browser.find_element(\"xpath\", com_page).click()\n",
    "        time.sleep(1)\n",
    "        try:\n",
    "            com_name = browser.find_element(\"xpath\", \"/html/body/div[1]/div[2]/div[3]/div[2]/div/div[1]/div/div[2]/div[1]/div[1]/h1/a/p[@class = 'md_stockBoard_stockName']\")\n",
    "            com_number_and_market = browser.find_element(\"xpath\", \"/html/body/div[1]/div[2]/div[3]/div[2]/div/div[1]/div/div[2]/div[1]/div[1]/div[1]\")\n",
    "            com_ind = browser.find_element(\"xpath\", \"/html/body/div[1]/div[2]/div[3]/div[4]/div[1]/div[1]/div[3]/div[1]/div/div/div/div/div[2]/div/div[1]/div/div/a\")\n",
    "            company_name3.append(com_name.text)\n",
    "            company_number3.append(com_number_and_market.text[:4])\n",
    "            company_market3.append(com_number_and_market.text[6:])\n",
    "            company_industry3.append(com_ind.text)\n",
    "            browser.back()\n",
    "        except:\n",
    "            browser.back()\n",
    "        time.sleep(.2)\n",
    "        page_url = f\"https://minkabu.jp/stock/stocksitemap/3\""
   ]
  },
  {
   "cell_type": "code",
   "execution_count": null,
   "metadata": {},
   "outputs": [],
   "source": [
    "browser.close()"
   ]
  },
  {
   "cell_type": "code",
   "execution_count": null,
   "metadata": {},
   "outputs": [],
   "source": [
    "CHROME_DRIVER = \"C:/Users/ichir/Documents/seminar/chrome_driver/chromedriver.exe\"\n",
    "chrome_service = service.Service(executable_path = CHROME_DRIVER)\n",
    "browser = webdriver.Chrome(service=chrome_service)"
   ]
  },
  {
   "cell_type": "code",
   "execution_count": null,
   "metadata": {},
   "outputs": [],
   "source": [
    "for i in range(8, 14):\n",
    "    if i >= 2:\n",
    "        page_url += f\"?page={i}\"\n",
    "    else:\n",
    "        page_url = page_url\n",
    "    browser.get(page_url)\n",
    "    time.sleep(1)\n",
    "    companies_list = browser.find_elements(\"xpath\", \"/html/body/div[1]/div[2]/div[3]/div/div[1]/div[1]/article/div[2]/div[2]/div/table/tbody/tr/td[@class = 'vamd']\")\n",
    "    for j in range(len(companies_list)):\n",
    "        j += 2\n",
    "        com_page = f\"/html/body/div[1]/div[2]/div[3]/div/div[1]/div[1]/article/div[2]/div[2]/div/table/tbody/tr[{j}]/td[1]/div[2]/a\"\n",
    "        browser.find_element(\"xpath\", com_page).click()\n",
    "        time.sleep(1)\n",
    "        try:\n",
    "            com_name = browser.find_element(\"xpath\", \"/html/body/div[1]/div[2]/div[3]/div[2]/div/div[1]/div/div[2]/div[1]/div[1]/h1/a/p[@class = 'md_stockBoard_stockName']\")\n",
    "            com_number_and_market = browser.find_element(\"xpath\", \"/html/body/div[1]/div[2]/div[3]/div[2]/div/div[1]/div/div[2]/div[1]/div[1]/div[1]\")\n",
    "            com_ind = browser.find_element(\"xpath\", \"/html/body/div[1]/div[2]/div[3]/div[4]/div[1]/div[1]/div[3]/div[1]/div/div/div/div/div[2]/div/div[1]/div/div/a\")\n",
    "            company_name3.append(com_name.text)\n",
    "            company_number3.append(com_number_and_market.text[:4])\n",
    "            company_market3.append(com_number_and_market.text[6:])\n",
    "            company_industry3.append(com_ind.text)\n",
    "            browser.back()\n",
    "        except:\n",
    "            browser.back()\n",
    "        time.sleep(.2)\n",
    "        page_url = f\"https://minkabu.jp/stock/stocksitemap/3\""
   ]
  },
  {
   "cell_type": "code",
   "execution_count": null,
   "metadata": {},
   "outputs": [],
   "source": [
    "browser.close()"
   ]
  },
  {
   "cell_type": "code",
   "execution_count": null,
   "metadata": {},
   "outputs": [],
   "source": []
  }
 ],
 "metadata": {
  "kernelspec": {
   "display_name": "Python 3",
   "language": "python",
   "name": "python3"
  },
  "language_info": {
   "codemirror_mode": {
    "name": "ipython",
    "version": 3
   },
   "file_extension": ".py",
   "mimetype": "text/x-python",
   "name": "python",
   "nbconvert_exporter": "python",
   "pygments_lexer": "ipython3",
   "version": "3.11.0"
  },
  "orig_nbformat": 4,
  "vscode": {
   "interpreter": {
    "hash": "47417500ad15ca99f03b45708a09635de8bcda5c262a50200618c780233734a5"
   }
  }
 },
 "nbformat": 4,
 "nbformat_minor": 2
}
