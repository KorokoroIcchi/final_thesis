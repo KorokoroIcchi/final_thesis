{
 "cells": [
  {
   "cell_type": "code",
   "execution_count": 1,
   "metadata": {},
   "outputs": [],
   "source": [
    "import pandas as pd\n",
    "import numpy as np\n",
    "import matplotlib.pyplot as plt\n",
    "plt.rcParams['font.family'] = \"MS Gothic\"\n",
    "import chardet\n",
    "import seaborn as sns\n",
    "import glob"
   ]
  },
  {
   "cell_type": "code",
   "execution_count": null,
   "metadata": {},
   "outputs": [],
   "source": [
    "pd.set_option('display.max_columns', None)\n",
    "pd.set_option('display.max_rows', None)"
   ]
  },
  {
   "cell_type": "code",
   "execution_count": null,
   "metadata": {},
   "outputs": [],
   "source": [
    "files = glob.glob(\"C:/Users/ichir/Documents/seminar/DBJ_2021/non_consolidated/*.txt\")\n",
    "file_names = []\n",
    "coding = []\n",
    "num = []\n",
    "for file in files:\n",
    "    with open(file, mode = 'rb') as f:\n",
    "        code = f.read()\n",
    "    encode = chardet.detect(code)\n",
    "    file_name = file.split(\"\\\\\")[1]\n",
    "    file_code = encode['encoding']\n",
    "    file_names.append(file_name)\n",
    "    coding.append(file_code)\n",
    "for i in range(len(files)):\n",
    "    i += 1\n",
    "    num.append(i)\n",
    "file_code_table = pd.DataFrame(\n",
    "    data = {\n",
    "        'File_Number': num,\n",
    "        'File_Name': file_names,\n",
    "        'File_Encoding': coding\n",
    "    }\n",
    ")\n",
    "file_code_table = file_code_table.set_index('File_Number')"
   ]
  },
  {
   "cell_type": "code",
   "execution_count": null,
   "metadata": {},
   "outputs": [],
   "source": []
  }
 ],
 "metadata": {
  "kernelspec": {
   "display_name": "Python 3",
   "language": "python",
   "name": "python3"
  },
  "language_info": {
   "codemirror_mode": {
    "name": "ipython",
    "version": 3
   },
   "file_extension": ".py",
   "mimetype": "text/x-python",
   "name": "python",
   "nbconvert_exporter": "python",
   "pygments_lexer": "ipython3",
   "version": "3.11.0 (main, Oct 24 2022, 18:26:48) [MSC v.1933 64 bit (AMD64)]"
  },
  "orig_nbformat": 4,
  "vscode": {
   "interpreter": {
    "hash": "47417500ad15ca99f03b45708a09635de8bcda5c262a50200618c780233734a5"
   }
  }
 },
 "nbformat": 4,
 "nbformat_minor": 2
}
