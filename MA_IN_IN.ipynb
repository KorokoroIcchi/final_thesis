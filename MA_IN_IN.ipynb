{
 "cells": [
  {
   "cell_type": "code",
   "execution_count": 1,
   "metadata": {},
   "outputs": [],
   "source": [
    "import pandas as pd\n",
    "import numpy as np\n",
    "import glob\n",
    "import urllib3"
   ]
  },
  {
   "cell_type": "code",
   "execution_count": 18,
   "metadata": {},
   "outputs": [],
   "source": [
    "files = glob.glob(\"C:/Users/ichir/Documents/seminar/final_paper_data/MA_bloomberg/*_IN-IN.xlsx\")\n",
    "IN_IN =[]\n",
    "for file in files:\n",
    "    df = pd.read_excel(file)\n",
    "    df = df[(df['取引ﾀｲﾌﾟ'] == \"M&A\") & (df['取引状況'] == \"Completed\")].drop([\"取引ﾀｲﾌﾟ\", \"取引状況\", \"売却側の社名\"], axis = 1)\n",
    "    df['発表日'] = pd.to_datetime(df['発表日'])\n",
    "    df = df.sort_values('発表日').reset_index(drop=True)\n",
    "    IN_IN.append(df)\n",
    "df_IN_IN = pd.concat([IN_IN[0], IN_IN[1], IN_IN[2]], axis = 0)"
   ]
  },
  {
   "cell_type": "code",
   "execution_count": 21,
   "metadata": {},
   "outputs": [],
   "source": [
    "df_IN_IN.to_csv(\"C:/Users/ichir/Documents/seminar/final_paper_data/MA_bloomberg/1970-2022_IN-IN.csv\", encoding='cp932', index = False)"
   ]
  },
  {
   "cell_type": "code",
   "execution_count": null,
   "metadata": {},
   "outputs": [],
   "source": []
  }
 ],
 "metadata": {
  "kernelspec": {
   "display_name": "Python 3",
   "language": "python",
   "name": "python3"
  },
  "language_info": {
   "codemirror_mode": {
    "name": "ipython",
    "version": 3
   },
   "file_extension": ".py",
   "mimetype": "text/x-python",
   "name": "python",
   "nbconvert_exporter": "python",
   "pygments_lexer": "ipython3",
   "version": "3.11.0"
  },
  "orig_nbformat": 4,
  "vscode": {
   "interpreter": {
    "hash": "47417500ad15ca99f03b45708a09635de8bcda5c262a50200618c780233734a5"
   }
  }
 },
 "nbformat": 4,
 "nbformat_minor": 2
}
